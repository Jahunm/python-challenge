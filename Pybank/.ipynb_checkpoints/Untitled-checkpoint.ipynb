{
 "cells": [
  {
   "cell_type": "code",
   "execution_count": 18,
   "id": "f5fb168e-5804-4d36-9b5c-e8f8f82287a8",
   "metadata": {
    "tags": []
   },
   "outputs": [],
   "source": [
    "# Financial Analysis report of PyBank for the last 7 years.\n",
    "# Included in this report is the data from the budget_data.csv file.\n",
    "#The total number of months included in the dataset.\n",
    "    #The net total amount of Profit/Losses over the entire period.\n",
    "    #The average of the changes in Profit/Losses over the entire period.\n",
    "    #The greatest increase in profits (date and amount) over the entire period.\n",
    "    #The greatest decrease in losses (date and amount) over the entire period.\n",
    "    #greatest increase in profit.\n",
    "    #greatest decrease in profits.\n",
    "#For easy viewing the results compiled on a new text file named 'financial_analysis.txt'.   "
   ]
  },
  {
   "cell_type": "code",
   "execution_count": 19,
   "id": "b9569d89-2d0f-4f88-8457-caeace3b3269",
   "metadata": {
    "tags": []
   },
   "outputs": [],
   "source": [
    "# Initial Imports\n",
    "from pathlib import Path\n",
    "import csv"
   ]
  },
  {
   "cell_type": "code",
   "execution_count": 20,
   "id": "ab7b0e24-845e-4b1d-bd25-6fc91b3e13e4",
   "metadata": {
    "tags": []
   },
   "outputs": [],
   "source": [
    "# Set file path to call the information from. I am naming the file 'budget'\n",
    "budget = Path(\"Resources/budget_data.csv\")"
   ]
  },
  {
   "cell_type": "code",
   "execution_count": 21,
   "id": "fc70b02f-d69c-4895-afd7-72bfc19c5443",
   "metadata": {
    "tags": []
   },
   "outputs": [
    {
     "name": "stdout",
     "output_type": "stream",
     "text": [
      "Financial Analysis\n",
      "-------------------------------\n",
      "Total Months: 86\n",
      "Total: $38382578\n",
      "Average Change: $-2315.12\n",
      "Greatest Increase in Changes: Feb-2012 ($1926159)\n",
      "Greatest Decrease in Changes: Sep-2013 ($-2196167)\n",
      "Greatest Increase in Profits: $1170593\n",
      "Greatest Decrease in Profits: $-1196225\n"
     ]
    }
   ],
   "source": [
    "# create variables and open file (with open)\n",
    "total_months = 0\n",
    "total_profits = 0\n",
    "previous_value = 0\n",
    "changes = []\n",
    "dates = []\n",
    "greatest_decrease_profits = 0\n",
    "greatest_increase_profits = 0\n",
    "greatest_decrease_changes = 0\n",
    "greatest_increase_changes = 0\n",
    "\n",
    "with open(budget, 'r') as csvfile:\n",
    "    csvreader = csv.reader(csvfile)\n",
    "    header = next(csvreader)  # Skip the header row\n",
    "\n",
    "    for row in csvreader:\n",
    "        date, profit = row[0], int(row[1])\n",
    "        \n",
    "        if total_months > 0:  # This will skip the first row of data\n",
    "            change = profit - previous_value\n",
    "            changes.append(change)\n",
    "            \n",
    "            if change > greatest_increase_changes:\n",
    "                greatest_increase_changes = change\n",
    "                greatest_increase_date = date\n",
    "            elif change < greatest_decrease_changes:\n",
    "                greatest_decrease_changes = change\n",
    "                greatest_decrease_date = date\n",
    "\n",
    "        total_months += 1 \n",
    "        total_profits += profit\n",
    "        previous_value = profit\n",
    "\n",
    "        if profit > greatest_increase_profits:\n",
    "            greatest_increase_profits = profit\n",
    "        elif profit < greatest_decrease_profits:\n",
    "            greatest_decrease_profits = profit\n",
    "\n",
    "# Calculate the average change\n",
    "average_change = round(sum(changes) / len(changes), 2)\n",
    "\n",
    "print(\"Financial Analysis\")\n",
    "print(\"-------------------------------\")\n",
    "print(f\"Total Months: {total_months}\")\n",
    "print(f\"Total: ${total_profits}\")\n",
    "print(f\"Average Change: ${average_change}\")\n",
    "print(f\"Greatest Increase in Changes: {greatest_increase_date} (${greatest_increase_changes})\")\n",
    "print(f\"Greatest Decrease in Changes: {greatest_decrease_date} (${greatest_decrease_changes})\")\n",
    "print(f\"Greatest Increase in Profits: ${greatest_increase_profits}\")\n",
    "print(f\"Greatest Decrease in Profits: ${greatest_decrease_profits}\")\n"
   ]
  },
  {
   "cell_type": "code",
   "execution_count": 22,
   "id": "9a115227-a255-4038-adb8-8733400c1c8d",
   "metadata": {
    "tags": []
   },
   "outputs": [],
   "source": [
    "# @TODO: Set output file name\n",
    "output_path = Path(\"financial_analysis.txt\")"
   ]
  },
  {
   "cell_type": "code",
   "execution_count": 23,
   "id": "7754b890-93e5-4ace-af93-ff05e48ff520",
   "metadata": {
    "tags": []
   },
   "outputs": [],
   "source": [
    "# @TODO: Open the output path as a file object\n",
    "with open(output_path, 'w') as file:\n",
    "    # @TODO: Write daily_average to the output file, convert to string\n",
    "    file.write(f\"Fianacial Analysis... \\n\")\n",
    "    file.write(f\"------------------------------------------ \\n\")\n",
    "    file.write(f\"Total Months: {total_months} \\n\")\n",
    "    file.write(f\"Total: ${total_profits} \\n\")\n",
    "    file.write(f\"  Average Change: $ {average_change} \\n\")\n",
    "    file.write(f\"Greatest increase in Profits: {date} ${greatest_increase_changes} \\n\")\n",
    "    file.write(f\"Greatest decrease in Profits: {date} ${greatest_decrease_changes} \\n\")"
   ]
  },
  {
   "cell_type": "code",
   "execution_count": null,
   "id": "01c3bfb2-9a70-44e9-86cc-ef5323d120f0",
   "metadata": {},
   "outputs": [],
   "source": []
  }
 ],
 "metadata": {
  "kernelspec": {
   "display_name": "Python 3 (ipykernel)",
   "language": "python",
   "name": "python3"
  },
  "language_info": {
   "codemirror_mode": {
    "name": "ipython",
    "version": 3
   },
   "file_extension": ".py",
   "mimetype": "text/x-python",
   "name": "python",
   "nbconvert_exporter": "python",
   "pygments_lexer": "ipython3",
   "version": "3.11.5"
  }
 },
 "nbformat": 4,
 "nbformat_minor": 5
}
